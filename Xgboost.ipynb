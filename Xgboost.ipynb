{
  "nbformat": 4,
  "nbformat_minor": 0,
  "metadata": {
    "colab": {
      "provenance": [],
      "authorship_tag": "ABX9TyMMgyVqgMB81v+siKZJg18w",
      "include_colab_link": true
    },
    "kernelspec": {
      "name": "python3",
      "display_name": "Python 3"
    },
    "language_info": {
      "name": "python"
    }
  },
  "cells": [
    {
      "cell_type": "markdown",
      "metadata": {
        "id": "view-in-github",
        "colab_type": "text"
      },
      "source": [
        "<a href=\"https://colab.research.google.com/github/lekh-ch/Training-models/blob/main/Xgboost.ipynb\" target=\"_parent\"><img src=\"https://colab.research.google.com/assets/colab-badge.svg\" alt=\"Open In Colab\"/></a>"
      ]
    },
    {
      "cell_type": "code",
      "execution_count": 8,
      "metadata": {
        "colab": {
          "base_uri": "https://localhost:8080/"
        },
        "id": "CB6Gg0NDlTqT",
        "outputId": "06b1cb2e-10ee-4abc-9e27-5968bd159324"
      },
      "outputs": [
        {
          "output_type": "stream",
          "name": "stdout",
          "text": [
            "Heart rate difference distribution:\n",
            "count    485.000000\n",
            "mean      -6.946392\n",
            "std        1.942673\n",
            "min      -10.000000\n",
            "25%       -9.000000\n",
            "50%       -7.000000\n",
            "75%       -5.000000\n",
            "max       -4.000000\n",
            "dtype: float64\n",
            "Updated Class Distribution:\n",
            "HeartAttack\n",
            "0    418\n",
            "1     67\n",
            "Name: count, dtype: int64\n",
            "Accuracy: 0.86\n",
            "Classification Report:\n",
            "               precision    recall  f1-score   support\n",
            "\n",
            "           0       0.89      0.95      0.92        84\n",
            "           1       0.43      0.23      0.30        13\n",
            "\n",
            "    accuracy                           0.86        97\n",
            "   macro avg       0.66      0.59      0.61        97\n",
            "weighted avg       0.83      0.86      0.84        97\n",
            "\n",
            "Test Sample Prediction: No Risk\n"
          ]
        }
      ],
      "source": [
        "import pandas as pd\n",
        "import numpy as np\n",
        "from sklearn.model_selection import train_test_split\n",
        "from sklearn.preprocessing import StandardScaler\n",
        "from xgboost import XGBClassifier\n",
        "from sklearn.metrics import accuracy_score, classification_report\n",
        "\n",
        "# Load dataset\n",
        "data_path = \"/content/heart_rate_data.csv\"\n",
        "df = pd.read_csv(data_path)\n",
        "\n",
        "# Ensure values fall within expected ranges\n",
        "df = df[(df['Age'].between(18, 60)) &\n",
        "        (df['Sleep Hours'].between(3.0, 10.0)) &\n",
        "        (df['Exercise Frequency (Days/Week)'].between(1, 7)) &\n",
        "        (df['Resting Heart Rate Before'].between(50, 100)) &\n",
        "        (df['Resting Heart Rate After'].between(45, 95)) &\n",
        "        (df['Max Heart Rate During Exercise'].between(120, 190))]\n",
        "\n",
        "# Check distribution of heart rate differences\n",
        "hr_difference = df['Resting Heart Rate After'] - df['Resting Heart Rate Before']\n",
        "print(\"Heart rate difference distribution:\")\n",
        "print(hr_difference.describe())\n",
        "\n",
        "# Adjusting HeartAttack definition using percentile-based threshold\n",
        "threshold = np.percentile(hr_difference, 75)\n",
        "df['HeartAttack'] = (hr_difference > threshold).astype(int)\n",
        "\n",
        "# Checking updated class distribution\n",
        "print(\"Updated Class Distribution:\")\n",
        "print(df['HeartAttack'].value_counts())\n",
        "\n",
        "# Selecting features and target variable\n",
        "X = df[['Age', 'Sleep Hours', 'Exercise Frequency (Days/Week)', 'Resting Heart Rate Before', 'Resting Heart Rate After', 'Max Heart Rate During Exercise']]\n",
        "y = df['HeartAttack']\n",
        "\n",
        "# Ensure we have at least two classes before splitting\n",
        "if df['HeartAttack'].nunique() > 1:\n",
        "    X_train, X_test, y_train, y_test = train_test_split(X, y, test_size=0.2, random_state=42, stratify=y)\n",
        "\n",
        "    # Standardizing features\n",
        "    scaler = StandardScaler()\n",
        "    X_train = scaler.fit_transform(X_train)\n",
        "    X_test = scaler.transform(X_test)\n",
        "\n",
        "    # Training XGBoost model with hyperparameter tuning\n",
        "    xgb_model = XGBClassifier(n_estimators=100, learning_rate=0.1, max_depth=5, subsample=0.8, colsample_bytree=0.8, random_state=42)\n",
        "    xgb_model.fit(X_train, y_train)\n",
        "\n",
        "    # Making predictions\n",
        "    y_pred = xgb_model.predict(X_test)\n",
        "\n",
        "    # Evaluating the model\n",
        "    accuracy = accuracy_score(y_test, y_pred)\n",
        "    print(f'Accuracy: {accuracy:.2f}')\n",
        "    print('Classification Report:\\n', classification_report(y_test, y_pred))\n",
        "\n",
        "    # Function to test new data\n",
        "    def test_model(sample):\n",
        "        sample_df = pd.DataFrame([sample], columns=X.columns)\n",
        "        sample_scaled = scaler.transform(sample_df)\n",
        "        prediction = xgb_model.predict(sample_scaled)\n",
        "        return \"Heart Attack Risk\" if prediction[0] == 1 else \"No Risk\"\n",
        "\n",
        "    # Example test case\n",
        "    test_sample = {\n",
        "        'Age': 45,\n",
        "        'Sleep Hours': 6.5,\n",
        "        'Exercise Frequency (Days/Week)': 3,\n",
        "        'Resting Heart Rate Before': 75,\n",
        "        'Resting Heart Rate After': 65,\n",
        "        'Max Heart Rate During Exercise': 160\n",
        "    }\n",
        "    print(\"Test Sample Prediction:\", test_model(test_sample))\n",
        "else:\n",
        "    print(\"Not enough class variation for training.\")"
      ]
    }
  ]
}