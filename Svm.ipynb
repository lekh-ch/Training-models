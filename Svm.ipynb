{
  "nbformat": 4,
  "nbformat_minor": 0,
  "metadata": {
    "colab": {
      "provenance": [],
      "authorship_tag": "ABX9TyOj5jsmznzoE22bPQS+cU1u",
      "include_colab_link": true
    },
    "kernelspec": {
      "name": "python3",
      "display_name": "Python 3"
    },
    "language_info": {
      "name": "python"
    }
  },
  "cells": [
    {
      "cell_type": "markdown",
      "metadata": {
        "id": "view-in-github",
        "colab_type": "text"
      },
      "source": [
        "<a href=\"https://colab.research.google.com/github/lekh-ch/Training-models/blob/main/Svm.ipynb\" target=\"_parent\"><img src=\"https://colab.research.google.com/assets/colab-badge.svg\" alt=\"Open In Colab\"/></a>"
      ]
    },
    {
      "cell_type": "code",
      "execution_count": 28,
      "metadata": {
        "colab": {
          "base_uri": "https://localhost:8080/"
        },
        "id": "yX6mqNpwFD-p",
        "outputId": "ba9256ac-2693-4394-fe55-6cd66fe57594"
      },
      "outputs": [
        {
          "output_type": "stream",
          "name": "stdout",
          "text": [
            "Heart rate difference distribution:\n",
            "count    485.000000\n",
            "mean      -6.946392\n",
            "std        1.942673\n",
            "min      -10.000000\n",
            "25%       -9.000000\n",
            "50%       -7.000000\n",
            "75%       -5.000000\n",
            "max       -4.000000\n",
            "dtype: float64\n",
            "Updated Class Distribution:\n",
            "HeartAttack\n",
            "0    418\n",
            "1     67\n",
            "Name: count, dtype: int64\n",
            "Best Parameters: {'C': 10, 'gamma': 'scale', 'kernel': 'linear'}\n",
            "Improved Accuracy: 1.00\n",
            "Updated Classification Report:\n",
            "               precision    recall  f1-score   support\n",
            "\n",
            "           0       1.00      1.00      1.00        84\n",
            "           1       1.00      1.00      1.00        13\n",
            "\n",
            "    accuracy                           1.00        97\n",
            "   macro avg       1.00      1.00      1.00        97\n",
            "weighted avg       1.00      1.00      1.00        97\n",
            "\n",
            "Test Sample Prediction: Heart Attack Risk\n"
          ]
        }
      ],
      "source": [
        "import pandas as pd\n",
        "import numpy as np\n",
        "from sklearn.model_selection import train_test_split\n",
        "from sklearn.preprocessing import StandardScaler\n",
        "from sklearn.svm import SVC\n",
        "from sklearn.metrics import accuracy_score, classification_report\n",
        "from sklearn.model_selection import GridSearchCV\n",
        "\n",
        "# Load dataset\n",
        "data_path = \"/content/heart_rate_data.csv\"\n",
        "df = pd.read_csv(data_path)\n",
        "\n",
        "# Ensure values fall within expected ranges\n",
        "df = df[(df['Age'].between(18, 60)) &\n",
        "        (df['Sleep Hours'].between(3.0, 10.0)) &\n",
        "        (df['Exercise Frequency (Days/Week)'].between(1, 7)) &\n",
        "        (df['Resting Heart Rate Before'].between(50, 100)) &\n",
        "        (df['Resting Heart Rate After'].between(45, 95)) &\n",
        "        (df['Max Heart Rate During Exercise'].between(120, 190))]\n",
        "\n",
        "# Check distribution of heart rate differences\n",
        "hr_difference = df['Resting Heart Rate After'] - df['Resting Heart Rate Before']\n",
        "print(\"Heart rate difference distribution:\")\n",
        "print(hr_difference.describe())\n",
        "\n",
        "# Adjusting HeartAttack definition using percentile-based threshold\n",
        "threshold = np.percentile(hr_difference, 75)\n",
        "df['HeartAttack'] = (hr_difference > threshold).astype(int)\n",
        "\n",
        "# Checking updated class distribution\n",
        "print(\"Updated Class Distribution:\")\n",
        "print(df['HeartAttack'].value_counts())\n",
        "\n",
        "# Selecting features and target variable\n",
        "X = df[['Age', 'Sleep Hours', 'Exercise Frequency (Days/Week)', 'Resting Heart Rate Before', 'Resting Heart Rate After', 'Max Heart Rate During Exercise']]\n",
        "y = df['HeartAttack']\n",
        "\n",
        "# Ensure we have at least two classes before splitting\n",
        "if df['HeartAttack'].nunique() > 1:\n",
        "    X_train, X_test, y_train, y_test = train_test_split(X, y, test_size=0.2, random_state=42, stratify=y)\n",
        "\n",
        "    # Standardizing features\n",
        "    scaler = StandardScaler()\n",
        "    X_train = scaler.fit_transform(X_train)\n",
        "    X_test = scaler.transform(X_test)\n",
        "\n",
        "    # Hyperparameter tuning using GridSearchCV\n",
        "    param_grid = {\n",
        "        'C': [0.1, 1, 10, 100],\n",
        "        'gamma': ['scale', 'auto', 0.01, 0.1, 1],\n",
        "        'kernel': ['rbf', 'linear', 'poly']\n",
        "    }\n",
        "    grid_search = GridSearchCV(SVC(), param_grid, cv=5, scoring='accuracy')\n",
        "    grid_search.fit(X_train, y_train)\n",
        "    best_params = grid_search.best_params_\n",
        "    print(\"Best Parameters:\", best_params)\n",
        "\n",
        "    # Training SVM model with best parameters\n",
        "    svm_model = SVC(**best_params)\n",
        "    svm_model.fit(X_train, y_train)\n",
        "\n",
        "    # Making predictions\n",
        "    y_pred = svm_model.predict(X_test)\n",
        "\n",
        "    # Evaluating the model\n",
        "    accuracy = accuracy_score(y_test, y_pred)\n",
        "    print(f'Improved Accuracy: {accuracy:.2f}')\n",
        "    print('Updated Classification Report:\\n', classification_report(y_test, y_pred))\n",
        "\n",
        "    # Function to test new data\n",
        "    def test_model(sample):\n",
        "        sample_df = pd.DataFrame([sample], columns=X.columns)\n",
        "        sample_scaled = scaler.transform(sample_df)\n",
        "        prediction = svm_model.predict(sample_scaled)\n",
        "        return \"Heart Attack Risk\" if prediction[0] == 1 else \"No Risk\"\n",
        "\n",
        "    # Example test case\n",
        "    test_sample = {\n",
        "        'Age': 45,\n",
        "        'Sleep Hours': 6.5,\n",
        "        'Exercise Frequency (Days/Week)': 3,\n",
        "        'Resting Heart Rate Before': 75,\n",
        "        'Resting Heart Rate After': 65,\n",
        "        'Max Heart Rate During Exercise': 150\n",
        "    }\n",
        "    print(\"Test Sample Prediction:\", test_model(test_sample))\n",
        "else:\n",
        "    print(\"Not enough class variation for training.\")\n"
      ]
    }
  ]
}