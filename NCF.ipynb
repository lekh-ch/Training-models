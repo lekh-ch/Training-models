{
  "nbformat": 4,
  "nbformat_minor": 0,
  "metadata": {
    "colab": {
      "provenance": [],
      "authorship_tag": "ABX9TyPAuWq5n1qNpmnegYthUGAt",
      "include_colab_link": true
    },
    "kernelspec": {
      "name": "python3",
      "display_name": "Python 3"
    },
    "language_info": {
      "name": "python"
    }
  },
  "cells": [
    {
      "cell_type": "markdown",
      "metadata": {
        "id": "view-in-github",
        "colab_type": "text"
      },
      "source": [
        "<a href=\"https://colab.research.google.com/github/lekh-ch/Training-models/blob/main/NCF.ipynb\" target=\"_parent\"><img src=\"https://colab.research.google.com/assets/colab-badge.svg\" alt=\"Open In Colab\"/></a>"
      ]
    },
    {
      "cell_type": "code",
      "execution_count": 2,
      "metadata": {
        "colab": {
          "base_uri": "https://localhost:8080/"
        },
        "id": "cTtdz81OEuxg",
        "outputId": "c1151514-f43a-4aed-85f9-fbd5a476f51a"
      },
      "outputs": [
        {
          "output_type": "stream",
          "name": "stdout",
          "text": [
            "Requirement already satisfied: pandas in /usr/local/lib/python3.11/dist-packages (2.2.2)\n",
            "Requirement already satisfied: tensorflow in /usr/local/lib/python3.11/dist-packages (2.18.0)\n",
            "Requirement already satisfied: numpy in /usr/local/lib/python3.11/dist-packages (2.0.2)\n",
            "Requirement already satisfied: scikit-learn in /usr/local/lib/python3.11/dist-packages (1.6.1)\n",
            "Requirement already satisfied: python-dateutil>=2.8.2 in /usr/local/lib/python3.11/dist-packages (from pandas) (2.9.0.post0)\n",
            "Requirement already satisfied: pytz>=2020.1 in /usr/local/lib/python3.11/dist-packages (from pandas) (2025.1)\n",
            "Requirement already satisfied: tzdata>=2022.7 in /usr/local/lib/python3.11/dist-packages (from pandas) (2025.1)\n",
            "Requirement already satisfied: absl-py>=1.0.0 in /usr/local/lib/python3.11/dist-packages (from tensorflow) (1.4.0)\n",
            "Requirement already satisfied: astunparse>=1.6.0 in /usr/local/lib/python3.11/dist-packages (from tensorflow) (1.6.3)\n",
            "Requirement already satisfied: flatbuffers>=24.3.25 in /usr/local/lib/python3.11/dist-packages (from tensorflow) (25.2.10)\n",
            "Requirement already satisfied: gast!=0.5.0,!=0.5.1,!=0.5.2,>=0.2.1 in /usr/local/lib/python3.11/dist-packages (from tensorflow) (0.6.0)\n",
            "Requirement already satisfied: google-pasta>=0.1.1 in /usr/local/lib/python3.11/dist-packages (from tensorflow) (0.2.0)\n",
            "Requirement already satisfied: libclang>=13.0.0 in /usr/local/lib/python3.11/dist-packages (from tensorflow) (18.1.1)\n",
            "Requirement already satisfied: opt-einsum>=2.3.2 in /usr/local/lib/python3.11/dist-packages (from tensorflow) (3.4.0)\n",
            "Requirement already satisfied: packaging in /usr/local/lib/python3.11/dist-packages (from tensorflow) (24.2)\n",
            "Requirement already satisfied: protobuf!=4.21.0,!=4.21.1,!=4.21.2,!=4.21.3,!=4.21.4,!=4.21.5,<6.0.0dev,>=3.20.3 in /usr/local/lib/python3.11/dist-packages (from tensorflow) (5.29.4)\n",
            "Requirement already satisfied: requests<3,>=2.21.0 in /usr/local/lib/python3.11/dist-packages (from tensorflow) (2.32.3)\n",
            "Requirement already satisfied: setuptools in /usr/local/lib/python3.11/dist-packages (from tensorflow) (75.1.0)\n",
            "Requirement already satisfied: six>=1.12.0 in /usr/local/lib/python3.11/dist-packages (from tensorflow) (1.17.0)\n",
            "Requirement already satisfied: termcolor>=1.1.0 in /usr/local/lib/python3.11/dist-packages (from tensorflow) (2.5.0)\n",
            "Requirement already satisfied: typing-extensions>=3.6.6 in /usr/local/lib/python3.11/dist-packages (from tensorflow) (4.12.2)\n",
            "Requirement already satisfied: wrapt>=1.11.0 in /usr/local/lib/python3.11/dist-packages (from tensorflow) (1.17.2)\n",
            "Requirement already satisfied: grpcio<2.0,>=1.24.3 in /usr/local/lib/python3.11/dist-packages (from tensorflow) (1.71.0)\n",
            "Requirement already satisfied: tensorboard<2.19,>=2.18 in /usr/local/lib/python3.11/dist-packages (from tensorflow) (2.18.0)\n",
            "Requirement already satisfied: keras>=3.5.0 in /usr/local/lib/python3.11/dist-packages (from tensorflow) (3.8.0)\n",
            "Requirement already satisfied: h5py>=3.11.0 in /usr/local/lib/python3.11/dist-packages (from tensorflow) (3.13.0)\n",
            "Requirement already satisfied: ml-dtypes<0.5.0,>=0.4.0 in /usr/local/lib/python3.11/dist-packages (from tensorflow) (0.4.1)\n",
            "Requirement already satisfied: tensorflow-io-gcs-filesystem>=0.23.1 in /usr/local/lib/python3.11/dist-packages (from tensorflow) (0.37.1)\n",
            "Requirement already satisfied: scipy>=1.6.0 in /usr/local/lib/python3.11/dist-packages (from scikit-learn) (1.14.1)\n",
            "Requirement already satisfied: joblib>=1.2.0 in /usr/local/lib/python3.11/dist-packages (from scikit-learn) (1.4.2)\n",
            "Requirement already satisfied: threadpoolctl>=3.1.0 in /usr/local/lib/python3.11/dist-packages (from scikit-learn) (3.6.0)\n",
            "Requirement already satisfied: wheel<1.0,>=0.23.0 in /usr/local/lib/python3.11/dist-packages (from astunparse>=1.6.0->tensorflow) (0.45.1)\n",
            "Requirement already satisfied: rich in /usr/local/lib/python3.11/dist-packages (from keras>=3.5.0->tensorflow) (13.9.4)\n",
            "Requirement already satisfied: namex in /usr/local/lib/python3.11/dist-packages (from keras>=3.5.0->tensorflow) (0.0.8)\n",
            "Requirement already satisfied: optree in /usr/local/lib/python3.11/dist-packages (from keras>=3.5.0->tensorflow) (0.14.1)\n",
            "Requirement already satisfied: charset-normalizer<4,>=2 in /usr/local/lib/python3.11/dist-packages (from requests<3,>=2.21.0->tensorflow) (3.4.1)\n",
            "Requirement already satisfied: idna<4,>=2.5 in /usr/local/lib/python3.11/dist-packages (from requests<3,>=2.21.0->tensorflow) (3.10)\n",
            "Requirement already satisfied: urllib3<3,>=1.21.1 in /usr/local/lib/python3.11/dist-packages (from requests<3,>=2.21.0->tensorflow) (2.3.0)\n",
            "Requirement already satisfied: certifi>=2017.4.17 in /usr/local/lib/python3.11/dist-packages (from requests<3,>=2.21.0->tensorflow) (2025.1.31)\n",
            "Requirement already satisfied: markdown>=2.6.8 in /usr/local/lib/python3.11/dist-packages (from tensorboard<2.19,>=2.18->tensorflow) (3.7)\n",
            "Requirement already satisfied: tensorboard-data-server<0.8.0,>=0.7.0 in /usr/local/lib/python3.11/dist-packages (from tensorboard<2.19,>=2.18->tensorflow) (0.7.2)\n",
            "Requirement already satisfied: werkzeug>=1.0.1 in /usr/local/lib/python3.11/dist-packages (from tensorboard<2.19,>=2.18->tensorflow) (3.1.3)\n",
            "Requirement already satisfied: MarkupSafe>=2.1.1 in /usr/local/lib/python3.11/dist-packages (from werkzeug>=1.0.1->tensorboard<2.19,>=2.18->tensorflow) (3.0.2)\n",
            "Requirement already satisfied: markdown-it-py>=2.2.0 in /usr/local/lib/python3.11/dist-packages (from rich->keras>=3.5.0->tensorflow) (3.0.0)\n",
            "Requirement already satisfied: pygments<3.0.0,>=2.13.0 in /usr/local/lib/python3.11/dist-packages (from rich->keras>=3.5.0->tensorflow) (2.18.0)\n",
            "Requirement already satisfied: mdurl~=0.1 in /usr/local/lib/python3.11/dist-packages (from markdown-it-py>=2.2.0->rich->keras>=3.5.0->tensorflow) (0.1.2)\n"
          ]
        }
      ],
      "source": [
        "pip install pandas tensorflow numpy scikit-learn\n"
      ]
    },
    {
      "cell_type": "code",
      "source": [
        "import pandas as pd\n",
        "\n",
        "# Load dataset from CSV\n",
        "df = pd.read_csv(\"/content/nutrition.csv\")\n",
        "\n",
        "# Display the first few rows\n",
        "print(df.head())\n"
      ],
      "metadata": {
        "colab": {
          "base_uri": "https://localhost:8080/"
        },
        "id": "NRu1IceJFJIN",
        "outputId": "817ea1cf-34f3-437b-e92e-7fc4dea467f2"
      },
      "execution_count": 3,
      "outputs": [
        {
          "output_type": "stream",
          "name": "stdout",
          "text": [
            "   Unnamed: 0             name serving_size  calories total_fat saturated_fat  \\\n",
            "0           0       Cornstarch        100 g       381      0.1g           NaN   \n",
            "1           1     Nuts, pecans        100 g       691       72g          6.2g   \n",
            "2           2    Eggplant, raw        100 g        25      0.2g           NaN   \n",
            "3           3   Teff, uncooked        100 g       367      2.4g          0.4g   \n",
            "4           4  Sherbet, orange        100 g       144        2g          1.2g   \n",
            "\n",
            "  cholesterol    sodium  choline     folate  ...      fat  \\\n",
            "0           0   9.00 mg   0.4 mg   0.00 mcg  ...   0.05 g   \n",
            "1           0   0.00 mg  40.5 mg  22.00 mcg  ...  71.97 g   \n",
            "2           0   2.00 mg   6.9 mg  22.00 mcg  ...   0.18 g   \n",
            "3           0  12.00 mg  13.1 mg          0  ...   2.38 g   \n",
            "4         1mg  46.00 mg   7.7 mg   4.00 mcg  ...   2.00 g   \n",
            "\n",
            "  saturated_fatty_acids monounsaturated_fatty_acids  \\\n",
            "0               0.009 g                     0.016 g   \n",
            "1               6.180 g                    40.801 g   \n",
            "2               0.034 g                     0.016 g   \n",
            "3               0.449 g                     0.589 g   \n",
            "4               1.160 g                     0.530 g   \n",
            "\n",
            "  polyunsaturated_fatty_acids fatty_acids_total_trans alcohol     ash  \\\n",
            "0                     0.025 g                 0.00 mg   0.0 g  0.09 g   \n",
            "1                    21.614 g                 0.00 mg   0.0 g  1.49 g   \n",
            "2                     0.076 g                 0.00 mg   0.0 g  0.66 g   \n",
            "3                     1.071 g                       0       0  2.37 g   \n",
            "4                     0.080 g                 1.00 mg   0.0 g  0.40 g   \n",
            "\n",
            "  caffeine theobromine    water  \n",
            "0  0.00 mg     0.00 mg   8.32 g  \n",
            "1  0.00 mg     0.00 mg   3.52 g  \n",
            "2  0.00 mg     0.00 mg  92.30 g  \n",
            "3        0           0   8.82 g  \n",
            "4  0.00 mg     0.00 mg  66.10 g  \n",
            "\n",
            "[5 rows x 77 columns]\n"
          ]
        }
      ]
    },
    {
      "cell_type": "code",
      "source": [
        "import numpy as np\n",
        "from sklearn.preprocessing import LabelEncoder\n",
        "\n",
        "# Ensure necessary columns exist\n",
        "required_columns = ['name', 'serving_size', 'calories']\n",
        "assert all(col in df.columns for col in required_columns), \"Dataset is missing required columns!\"\n",
        "\n",
        "# Encode food names as numerical IDs\n",
        "food_encoder = LabelEncoder()\n",
        "df['food_id'] = food_encoder.fit_transform(df['name'])\n",
        "\n",
        "# Simulated User IDs (Random for now, replace with actual data if available)\n",
        "df['user_id'] = np.random.randint(0, 1000, df.shape[0])  # Assuming 1000 users\n",
        "\n",
        "# Implicit feedback (Assume 1 if consumed, change if explicit ratings are available)\n",
        "df['rating'] = 1\n"
      ],
      "metadata": {
        "id": "ny2aVF3eGAt3"
      },
      "execution_count": 4,
      "outputs": []
    },
    {
      "cell_type": "code",
      "source": [
        "import tensorflow as tf\n",
        "from tensorflow.keras.layers import Input, Embedding, Flatten, Concatenate, Dense\n",
        "from tensorflow.keras.models import Model\n",
        "\n",
        "num_users = df['user_id'].nunique()\n",
        "num_food_items = df['food_id'].nunique()\n",
        "\n",
        "# Define Input Layers\n",
        "user_input = Input(shape=(1,))\n",
        "food_input = Input(shape=(1,))\n",
        "\n",
        "# Embedding Layers\n",
        "user_embedding = Embedding(input_dim=num_users, output_dim=32)(user_input)\n",
        "food_embedding = Embedding(input_dim=num_food_items, output_dim=32)(food_input)\n",
        "\n",
        "# Flatten Layers\n",
        "user_vec = Flatten()(user_embedding)\n",
        "food_vec = Flatten()(food_embedding)\n",
        "\n",
        "# Concatenate User & Food Embeddings\n",
        "concat = Concatenate()([user_vec, food_vec])\n",
        "\n",
        "# Fully Connected Layers\n",
        "fc1 = Dense(128, activation='relu')(concat)\n",
        "fc2 = Dense(64, activation='relu')(fc1)\n",
        "fc3 = Dense(32, activation='relu')(fc2)\n",
        "output = Dense(1, activation='sigmoid')(fc3)  # Predict whether food is heart-healthy\n",
        "\n",
        "# Compile Model\n",
        "model = Model(inputs=[user_input, food_input], outputs=output)\n",
        "model.compile(optimizer='adam', loss='binary_crossentropy', metrics=['accuracy'])\n",
        "\n",
        "model.summary()\n"
      ],
      "metadata": {
        "colab": {
          "base_uri": "https://localhost:8080/",
          "height": 513
        },
        "id": "aaFkelpQGFkz",
        "outputId": "a264e3e5-50e9-499d-aed5-d6dcdf2bdac8"
      },
      "execution_count": 5,
      "outputs": [
        {
          "output_type": "display_data",
          "data": {
            "text/plain": [
              "\u001b[1mModel: \"functional\"\u001b[0m\n"
            ],
            "text/html": [
              "<pre style=\"white-space:pre;overflow-x:auto;line-height:normal;font-family:Menlo,'DejaVu Sans Mono',consolas,'Courier New',monospace\"><span style=\"font-weight: bold\">Model: \"functional\"</span>\n",
              "</pre>\n"
            ]
          },
          "metadata": {}
        },
        {
          "output_type": "display_data",
          "data": {
            "text/plain": [
              "┏━━━━━━━━━━━━━━━━━━━━━━━━━━━┳━━━━━━━━━━━━━━━━━━━━━━━━┳━━━━━━━━━━━━━━━━┳━━━━━━━━━━━━━━━━━━━━━━━━┓\n",
              "┃\u001b[1m \u001b[0m\u001b[1mLayer (type)             \u001b[0m\u001b[1m \u001b[0m┃\u001b[1m \u001b[0m\u001b[1mOutput Shape          \u001b[0m\u001b[1m \u001b[0m┃\u001b[1m \u001b[0m\u001b[1m       Param #\u001b[0m\u001b[1m \u001b[0m┃\u001b[1m \u001b[0m\u001b[1mConnected to          \u001b[0m\u001b[1m \u001b[0m┃\n",
              "┡━━━━━━━━━━━━━━━━━━━━━━━━━━━╇━━━━━━━━━━━━━━━━━━━━━━━━╇━━━━━━━━━━━━━━━━╇━━━━━━━━━━━━━━━━━━━━━━━━┩\n",
              "│ input_layer (\u001b[38;5;33mInputLayer\u001b[0m)  │ (\u001b[38;5;45mNone\u001b[0m, \u001b[38;5;34m1\u001b[0m)              │              \u001b[38;5;34m0\u001b[0m │ -                      │\n",
              "├───────────────────────────┼────────────────────────┼────────────────┼────────────────────────┤\n",
              "│ input_layer_1             │ (\u001b[38;5;45mNone\u001b[0m, \u001b[38;5;34m1\u001b[0m)              │              \u001b[38;5;34m0\u001b[0m │ -                      │\n",
              "│ (\u001b[38;5;33mInputLayer\u001b[0m)              │                        │                │                        │\n",
              "├───────────────────────────┼────────────────────────┼────────────────┼────────────────────────┤\n",
              "│ embedding (\u001b[38;5;33mEmbedding\u001b[0m)     │ (\u001b[38;5;45mNone\u001b[0m, \u001b[38;5;34m1\u001b[0m, \u001b[38;5;34m32\u001b[0m)          │         \u001b[38;5;34m32,000\u001b[0m │ input_layer[\u001b[38;5;34m0\u001b[0m][\u001b[38;5;34m0\u001b[0m]      │\n",
              "├───────────────────────────┼────────────────────────┼────────────────┼────────────────────────┤\n",
              "│ embedding_1 (\u001b[38;5;33mEmbedding\u001b[0m)   │ (\u001b[38;5;45mNone\u001b[0m, \u001b[38;5;34m1\u001b[0m, \u001b[38;5;34m32\u001b[0m)          │        \u001b[38;5;34m281,248\u001b[0m │ input_layer_1[\u001b[38;5;34m0\u001b[0m][\u001b[38;5;34m0\u001b[0m]    │\n",
              "├───────────────────────────┼────────────────────────┼────────────────┼────────────────────────┤\n",
              "│ flatten (\u001b[38;5;33mFlatten\u001b[0m)         │ (\u001b[38;5;45mNone\u001b[0m, \u001b[38;5;34m32\u001b[0m)             │              \u001b[38;5;34m0\u001b[0m │ embedding[\u001b[38;5;34m0\u001b[0m][\u001b[38;5;34m0\u001b[0m]        │\n",
              "├───────────────────────────┼────────────────────────┼────────────────┼────────────────────────┤\n",
              "│ flatten_1 (\u001b[38;5;33mFlatten\u001b[0m)       │ (\u001b[38;5;45mNone\u001b[0m, \u001b[38;5;34m32\u001b[0m)             │              \u001b[38;5;34m0\u001b[0m │ embedding_1[\u001b[38;5;34m0\u001b[0m][\u001b[38;5;34m0\u001b[0m]      │\n",
              "├───────────────────────────┼────────────────────────┼────────────────┼────────────────────────┤\n",
              "│ concatenate (\u001b[38;5;33mConcatenate\u001b[0m) │ (\u001b[38;5;45mNone\u001b[0m, \u001b[38;5;34m64\u001b[0m)             │              \u001b[38;5;34m0\u001b[0m │ flatten[\u001b[38;5;34m0\u001b[0m][\u001b[38;5;34m0\u001b[0m],         │\n",
              "│                           │                        │                │ flatten_1[\u001b[38;5;34m0\u001b[0m][\u001b[38;5;34m0\u001b[0m]        │\n",
              "├───────────────────────────┼────────────────────────┼────────────────┼────────────────────────┤\n",
              "│ dense (\u001b[38;5;33mDense\u001b[0m)             │ (\u001b[38;5;45mNone\u001b[0m, \u001b[38;5;34m128\u001b[0m)            │          \u001b[38;5;34m8,320\u001b[0m │ concatenate[\u001b[38;5;34m0\u001b[0m][\u001b[38;5;34m0\u001b[0m]      │\n",
              "├───────────────────────────┼────────────────────────┼────────────────┼────────────────────────┤\n",
              "│ dense_1 (\u001b[38;5;33mDense\u001b[0m)           │ (\u001b[38;5;45mNone\u001b[0m, \u001b[38;5;34m64\u001b[0m)             │          \u001b[38;5;34m8,256\u001b[0m │ dense[\u001b[38;5;34m0\u001b[0m][\u001b[38;5;34m0\u001b[0m]            │\n",
              "├───────────────────────────┼────────────────────────┼────────────────┼────────────────────────┤\n",
              "│ dense_2 (\u001b[38;5;33mDense\u001b[0m)           │ (\u001b[38;5;45mNone\u001b[0m, \u001b[38;5;34m32\u001b[0m)             │          \u001b[38;5;34m2,080\u001b[0m │ dense_1[\u001b[38;5;34m0\u001b[0m][\u001b[38;5;34m0\u001b[0m]          │\n",
              "├───────────────────────────┼────────────────────────┼────────────────┼────────────────────────┤\n",
              "│ dense_3 (\u001b[38;5;33mDense\u001b[0m)           │ (\u001b[38;5;45mNone\u001b[0m, \u001b[38;5;34m1\u001b[0m)              │             \u001b[38;5;34m33\u001b[0m │ dense_2[\u001b[38;5;34m0\u001b[0m][\u001b[38;5;34m0\u001b[0m]          │\n",
              "└───────────────────────────┴────────────────────────┴────────────────┴────────────────────────┘\n"
            ],
            "text/html": [
              "<pre style=\"white-space:pre;overflow-x:auto;line-height:normal;font-family:Menlo,'DejaVu Sans Mono',consolas,'Courier New',monospace\">┏━━━━━━━━━━━━━━━━━━━━━━━━━━━┳━━━━━━━━━━━━━━━━━━━━━━━━┳━━━━━━━━━━━━━━━━┳━━━━━━━━━━━━━━━━━━━━━━━━┓\n",
              "┃<span style=\"font-weight: bold\"> Layer (type)              </span>┃<span style=\"font-weight: bold\"> Output Shape           </span>┃<span style=\"font-weight: bold\">        Param # </span>┃<span style=\"font-weight: bold\"> Connected to           </span>┃\n",
              "┡━━━━━━━━━━━━━━━━━━━━━━━━━━━╇━━━━━━━━━━━━━━━━━━━━━━━━╇━━━━━━━━━━━━━━━━╇━━━━━━━━━━━━━━━━━━━━━━━━┩\n",
              "│ input_layer (<span style=\"color: #0087ff; text-decoration-color: #0087ff\">InputLayer</span>)  │ (<span style=\"color: #00d7ff; text-decoration-color: #00d7ff\">None</span>, <span style=\"color: #00af00; text-decoration-color: #00af00\">1</span>)              │              <span style=\"color: #00af00; text-decoration-color: #00af00\">0</span> │ -                      │\n",
              "├───────────────────────────┼────────────────────────┼────────────────┼────────────────────────┤\n",
              "│ input_layer_1             │ (<span style=\"color: #00d7ff; text-decoration-color: #00d7ff\">None</span>, <span style=\"color: #00af00; text-decoration-color: #00af00\">1</span>)              │              <span style=\"color: #00af00; text-decoration-color: #00af00\">0</span> │ -                      │\n",
              "│ (<span style=\"color: #0087ff; text-decoration-color: #0087ff\">InputLayer</span>)              │                        │                │                        │\n",
              "├───────────────────────────┼────────────────────────┼────────────────┼────────────────────────┤\n",
              "│ embedding (<span style=\"color: #0087ff; text-decoration-color: #0087ff\">Embedding</span>)     │ (<span style=\"color: #00d7ff; text-decoration-color: #00d7ff\">None</span>, <span style=\"color: #00af00; text-decoration-color: #00af00\">1</span>, <span style=\"color: #00af00; text-decoration-color: #00af00\">32</span>)          │         <span style=\"color: #00af00; text-decoration-color: #00af00\">32,000</span> │ input_layer[<span style=\"color: #00af00; text-decoration-color: #00af00\">0</span>][<span style=\"color: #00af00; text-decoration-color: #00af00\">0</span>]      │\n",
              "├───────────────────────────┼────────────────────────┼────────────────┼────────────────────────┤\n",
              "│ embedding_1 (<span style=\"color: #0087ff; text-decoration-color: #0087ff\">Embedding</span>)   │ (<span style=\"color: #00d7ff; text-decoration-color: #00d7ff\">None</span>, <span style=\"color: #00af00; text-decoration-color: #00af00\">1</span>, <span style=\"color: #00af00; text-decoration-color: #00af00\">32</span>)          │        <span style=\"color: #00af00; text-decoration-color: #00af00\">281,248</span> │ input_layer_1[<span style=\"color: #00af00; text-decoration-color: #00af00\">0</span>][<span style=\"color: #00af00; text-decoration-color: #00af00\">0</span>]    │\n",
              "├───────────────────────────┼────────────────────────┼────────────────┼────────────────────────┤\n",
              "│ flatten (<span style=\"color: #0087ff; text-decoration-color: #0087ff\">Flatten</span>)         │ (<span style=\"color: #00d7ff; text-decoration-color: #00d7ff\">None</span>, <span style=\"color: #00af00; text-decoration-color: #00af00\">32</span>)             │              <span style=\"color: #00af00; text-decoration-color: #00af00\">0</span> │ embedding[<span style=\"color: #00af00; text-decoration-color: #00af00\">0</span>][<span style=\"color: #00af00; text-decoration-color: #00af00\">0</span>]        │\n",
              "├───────────────────────────┼────────────────────────┼────────────────┼────────────────────────┤\n",
              "│ flatten_1 (<span style=\"color: #0087ff; text-decoration-color: #0087ff\">Flatten</span>)       │ (<span style=\"color: #00d7ff; text-decoration-color: #00d7ff\">None</span>, <span style=\"color: #00af00; text-decoration-color: #00af00\">32</span>)             │              <span style=\"color: #00af00; text-decoration-color: #00af00\">0</span> │ embedding_1[<span style=\"color: #00af00; text-decoration-color: #00af00\">0</span>][<span style=\"color: #00af00; text-decoration-color: #00af00\">0</span>]      │\n",
              "├───────────────────────────┼────────────────────────┼────────────────┼────────────────────────┤\n",
              "│ concatenate (<span style=\"color: #0087ff; text-decoration-color: #0087ff\">Concatenate</span>) │ (<span style=\"color: #00d7ff; text-decoration-color: #00d7ff\">None</span>, <span style=\"color: #00af00; text-decoration-color: #00af00\">64</span>)             │              <span style=\"color: #00af00; text-decoration-color: #00af00\">0</span> │ flatten[<span style=\"color: #00af00; text-decoration-color: #00af00\">0</span>][<span style=\"color: #00af00; text-decoration-color: #00af00\">0</span>],         │\n",
              "│                           │                        │                │ flatten_1[<span style=\"color: #00af00; text-decoration-color: #00af00\">0</span>][<span style=\"color: #00af00; text-decoration-color: #00af00\">0</span>]        │\n",
              "├───────────────────────────┼────────────────────────┼────────────────┼────────────────────────┤\n",
              "│ dense (<span style=\"color: #0087ff; text-decoration-color: #0087ff\">Dense</span>)             │ (<span style=\"color: #00d7ff; text-decoration-color: #00d7ff\">None</span>, <span style=\"color: #00af00; text-decoration-color: #00af00\">128</span>)            │          <span style=\"color: #00af00; text-decoration-color: #00af00\">8,320</span> │ concatenate[<span style=\"color: #00af00; text-decoration-color: #00af00\">0</span>][<span style=\"color: #00af00; text-decoration-color: #00af00\">0</span>]      │\n",
              "├───────────────────────────┼────────────────────────┼────────────────┼────────────────────────┤\n",
              "│ dense_1 (<span style=\"color: #0087ff; text-decoration-color: #0087ff\">Dense</span>)           │ (<span style=\"color: #00d7ff; text-decoration-color: #00d7ff\">None</span>, <span style=\"color: #00af00; text-decoration-color: #00af00\">64</span>)             │          <span style=\"color: #00af00; text-decoration-color: #00af00\">8,256</span> │ dense[<span style=\"color: #00af00; text-decoration-color: #00af00\">0</span>][<span style=\"color: #00af00; text-decoration-color: #00af00\">0</span>]            │\n",
              "├───────────────────────────┼────────────────────────┼────────────────┼────────────────────────┤\n",
              "│ dense_2 (<span style=\"color: #0087ff; text-decoration-color: #0087ff\">Dense</span>)           │ (<span style=\"color: #00d7ff; text-decoration-color: #00d7ff\">None</span>, <span style=\"color: #00af00; text-decoration-color: #00af00\">32</span>)             │          <span style=\"color: #00af00; text-decoration-color: #00af00\">2,080</span> │ dense_1[<span style=\"color: #00af00; text-decoration-color: #00af00\">0</span>][<span style=\"color: #00af00; text-decoration-color: #00af00\">0</span>]          │\n",
              "├───────────────────────────┼────────────────────────┼────────────────┼────────────────────────┤\n",
              "│ dense_3 (<span style=\"color: #0087ff; text-decoration-color: #0087ff\">Dense</span>)           │ (<span style=\"color: #00d7ff; text-decoration-color: #00d7ff\">None</span>, <span style=\"color: #00af00; text-decoration-color: #00af00\">1</span>)              │             <span style=\"color: #00af00; text-decoration-color: #00af00\">33</span> │ dense_2[<span style=\"color: #00af00; text-decoration-color: #00af00\">0</span>][<span style=\"color: #00af00; text-decoration-color: #00af00\">0</span>]          │\n",
              "└───────────────────────────┴────────────────────────┴────────────────┴────────────────────────┘\n",
              "</pre>\n"
            ]
          },
          "metadata": {}
        },
        {
          "output_type": "display_data",
          "data": {
            "text/plain": [
              "\u001b[1m Total params: \u001b[0m\u001b[38;5;34m331,937\u001b[0m (1.27 MB)\n"
            ],
            "text/html": [
              "<pre style=\"white-space:pre;overflow-x:auto;line-height:normal;font-family:Menlo,'DejaVu Sans Mono',consolas,'Courier New',monospace\"><span style=\"font-weight: bold\"> Total params: </span><span style=\"color: #00af00; text-decoration-color: #00af00\">331,937</span> (1.27 MB)\n",
              "</pre>\n"
            ]
          },
          "metadata": {}
        },
        {
          "output_type": "display_data",
          "data": {
            "text/plain": [
              "\u001b[1m Trainable params: \u001b[0m\u001b[38;5;34m331,937\u001b[0m (1.27 MB)\n"
            ],
            "text/html": [
              "<pre style=\"white-space:pre;overflow-x:auto;line-height:normal;font-family:Menlo,'DejaVu Sans Mono',consolas,'Courier New',monospace\"><span style=\"font-weight: bold\"> Trainable params: </span><span style=\"color: #00af00; text-decoration-color: #00af00\">331,937</span> (1.27 MB)\n",
              "</pre>\n"
            ]
          },
          "metadata": {}
        },
        {
          "output_type": "display_data",
          "data": {
            "text/plain": [
              "\u001b[1m Non-trainable params: \u001b[0m\u001b[38;5;34m0\u001b[0m (0.00 B)\n"
            ],
            "text/html": [
              "<pre style=\"white-space:pre;overflow-x:auto;line-height:normal;font-family:Menlo,'DejaVu Sans Mono',consolas,'Courier New',monospace\"><span style=\"font-weight: bold\"> Non-trainable params: </span><span style=\"color: #00af00; text-decoration-color: #00af00\">0</span> (0.00 B)\n",
              "</pre>\n"
            ]
          },
          "metadata": {}
        }
      ]
    },
    {
      "cell_type": "code",
      "source": [
        "# Prepare Data for Training\n",
        "user_ids = df['user_id'].values\n",
        "food_ids = df['food_id'].values\n",
        "labels = df['rating'].values  # All 1s (Implicit feedback)\n",
        "\n",
        "# Train Model\n",
        "model.fit([user_ids, food_ids], labels, epochs=10, batch_size=32)\n"
      ],
      "metadata": {
        "colab": {
          "base_uri": "https://localhost:8080/"
        },
        "id": "S9f3KNp1GI7h",
        "outputId": "d8f03456-7085-4e57-dbc0-cf8a4f3e19b6"
      },
      "execution_count": 6,
      "outputs": [
        {
          "output_type": "stream",
          "name": "stdout",
          "text": [
            "Epoch 1/10\n",
            "\u001b[1m275/275\u001b[0m \u001b[32m━━━━━━━━━━━━━━━━━━━━\u001b[0m\u001b[37m\u001b[0m \u001b[1m4s\u001b[0m 5ms/step - accuracy: 0.9607 - loss: 0.2436\n",
            "Epoch 2/10\n",
            "\u001b[1m275/275\u001b[0m \u001b[32m━━━━━━━━━━━━━━━━━━━━\u001b[0m\u001b[37m\u001b[0m \u001b[1m2s\u001b[0m 7ms/step - accuracy: 1.0000 - loss: 8.0968e-05\n",
            "Epoch 3/10\n",
            "\u001b[1m275/275\u001b[0m \u001b[32m━━━━━━━━━━━━━━━━━━━━\u001b[0m\u001b[37m\u001b[0m \u001b[1m2s\u001b[0m 7ms/step - accuracy: 1.0000 - loss: 2.6367e-05\n",
            "Epoch 4/10\n",
            "\u001b[1m275/275\u001b[0m \u001b[32m━━━━━━━━━━━━━━━━━━━━\u001b[0m\u001b[37m\u001b[0m \u001b[1m2s\u001b[0m 5ms/step - accuracy: 1.0000 - loss: 1.2591e-05\n",
            "Epoch 5/10\n",
            "\u001b[1m275/275\u001b[0m \u001b[32m━━━━━━━━━━━━━━━━━━━━\u001b[0m\u001b[37m\u001b[0m \u001b[1m1s\u001b[0m 5ms/step - accuracy: 1.0000 - loss: 7.1611e-06\n",
            "Epoch 6/10\n",
            "\u001b[1m275/275\u001b[0m \u001b[32m━━━━━━━━━━━━━━━━━━━━\u001b[0m\u001b[37m\u001b[0m \u001b[1m3s\u001b[0m 5ms/step - accuracy: 1.0000 - loss: 4.5941e-06\n",
            "Epoch 7/10\n",
            "\u001b[1m275/275\u001b[0m \u001b[32m━━━━━━━━━━━━━━━━━━━━\u001b[0m\u001b[37m\u001b[0m \u001b[1m2s\u001b[0m 5ms/step - accuracy: 1.0000 - loss: 3.1023e-06\n",
            "Epoch 8/10\n",
            "\u001b[1m275/275\u001b[0m \u001b[32m━━━━━━━━━━━━━━━━━━━━\u001b[0m\u001b[37m\u001b[0m \u001b[1m3s\u001b[0m 8ms/step - accuracy: 1.0000 - loss: 2.2316e-06\n",
            "Epoch 9/10\n",
            "\u001b[1m275/275\u001b[0m \u001b[32m━━━━━━━━━━━━━━━━━━━━\u001b[0m\u001b[37m\u001b[0m \u001b[1m2s\u001b[0m 5ms/step - accuracy: 1.0000 - loss: 1.6575e-06\n",
            "Epoch 10/10\n",
            "\u001b[1m275/275\u001b[0m \u001b[32m━━━━━━━━━━━━━━━━━━━━\u001b[0m\u001b[37m\u001b[0m \u001b[1m3s\u001b[0m 5ms/step - accuracy: 1.0000 - loss: 1.2515e-06\n"
          ]
        },
        {
          "output_type": "execute_result",
          "data": {
            "text/plain": [
              "<keras.src.callbacks.history.History at 0x7a8299cc4b50>"
            ]
          },
          "metadata": {},
          "execution_count": 6
        }
      ]
    },
    {
      "cell_type": "code",
      "source": [
        "def recommend_foods(user_id, top_n=5):\n",
        "    food_ids = np.array(range(num_food_items))\n",
        "    scores = model.predict([np.array([user_id] * num_food_items), food_ids])\n",
        "\n",
        "    # Sort food items by predicted score\n",
        "    food_scores = list(zip(food_ids, scores.flatten()))\n",
        "    food_scores.sort(key=lambda x: x[1], reverse=True)\n",
        "\n",
        "    # Get top N recommended foods\n",
        "    recommended_foods = [food_encoder.inverse_transform([food_id])[0] for food_id, _ in food_scores[:top_n]]\n",
        "    return recommended_foods\n",
        "\n",
        "# Get recommendations for a sample user\n",
        "print(recommend_foods(user_id=10))\n"
      ],
      "metadata": {
        "colab": {
          "base_uri": "https://localhost:8080/"
        },
        "id": "MSc-P5b8GUGK",
        "outputId": "d777104d-25ef-488d-e578-2f6d56416925"
      },
      "execution_count": 7,
      "outputs": [
        {
          "output_type": "stream",
          "name": "stdout",
          "text": [
            "\u001b[1m275/275\u001b[0m \u001b[32m━━━━━━━━━━━━━━━━━━━━\u001b[0m\u001b[37m\u001b[0m \u001b[1m1s\u001b[0m 2ms/step\n",
            "['Fish, dry heat, cooked, tilapia', 'Cereals ready-to-eat, HONEY GRAHAM OH!S, QUAKER', 'Babyfood, strained, bananas and pineapple with tapioca, fruit', 'Beverages, with aspartame, low calorie, dry powdered mix, fruit-flavored drink', 'Fish, dry heat, cooked, mixed species, yellowtail']\n"
          ]
        }
      ]
    },
    {
      "cell_type": "code",
      "source": [
        "import pandas as pd\n",
        "import numpy as np\n",
        "import tensorflow as tf\n",
        "from tensorflow.keras.layers import Input, Embedding, Flatten, Concatenate, Dense\n",
        "from tensorflow.keras.models import Model\n",
        "from sklearn.preprocessing import LabelEncoder\n",
        "\n",
        "# Load dataset\n",
        "df = pd.read_csv(\"/content/nutrition.csv\")\n",
        "\n",
        "# Ensure necessary columns exist\n",
        "required_columns = ['name', 'serving_size', 'calories']\n",
        "assert all(col in df.columns for col in required_columns), \"Dataset is missing required columns!\"\n",
        "\n",
        "# Step 1: Filter Heart-Healthy Foods\n",
        "def is_heart_healthy(food_name):\n",
        "    \"\"\"Returns True if the food is heart-healthy, False otherwise.\"\"\"\n",
        "    unhealthy_keywords = [\n",
        "        'alcohol', 'beer', 'wine', 'whiskey', 'vodka', 'tequila',  # Alcoholic drinks\n",
        "        'beef', 'pork', 'bacon', 'sausage', 'fried', 'burger',      # Red/processed meat\n",
        "        'candy', 'cookies', 'cake', 'soda', 'syrup', 'sugar',       # Sugary foods\n",
        "        'butter', 'cheese', 'cream', 'mayonnaise',                  # High-fat dairy\n",
        "        'chips', 'crackers', 'fast food', 'processed'               # Processed/junk food\n",
        "    ]\n",
        "\n",
        "    return not any(keyword in food_name.lower() for keyword in unhealthy_keywords)\n",
        "\n",
        "# Apply filter\n",
        "df = df[df['name'].apply(is_heart_healthy)]\n",
        "\n",
        "# Remove missing values\n",
        "df = df.dropna()\n",
        "\n",
        "# Encode food names as numerical IDs (starting from 0)\n",
        "food_encoder = LabelEncoder()\n",
        "df['food_id'] = food_encoder.fit_transform(df['name'])\n",
        "\n",
        "# Ensure User IDs start from 0\n",
        "df['user_id'] = np.random.randint(0, 1000, df.shape[0])  # Assign random user IDs\n",
        "df['user_id'] -= df['user_id'].min()  # Normalize user IDs to start from 0\n",
        "\n",
        "# Assign implicit rating (1 = liked/healthy)\n",
        "df['rating'] = 1\n",
        "\n",
        "# Ensure Data Types Are Correct\n",
        "df['user_id'] = df['user_id'].astype(int)\n",
        "df['food_id'] = df['food_id'].astype(int)\n",
        "df['rating'] = df['rating'].astype(float)\n",
        "\n",
        "# Define User & Food Counts (Adding +1 to prevent indexing errors)\n",
        "num_users = df['user_id'].max() + 1  # Max ID + 1 ensures all IDs fit within the range\n",
        "num_food_items = df['food_id'].max() + 1  # Max ID + 1 ensures all IDs fit within range\n",
        "\n",
        "# Step 2: Check Shapes Before Training\n",
        "print(f\"Total Unique Users: {num_users}\")\n",
        "print(f\"Total Unique Foods: {num_food_items}\")\n",
        "print(f\"Dataset Size: {df.shape}\")\n",
        "\n",
        "# Build Neural Collaborative Filtering Model\n",
        "user_input = Input(shape=(1,))\n",
        "food_input = Input(shape=(1,))\n",
        "\n",
        "user_embedding = Embedding(input_dim=num_users, output_dim=32)(user_input)\n",
        "food_embedding = Embedding(input_dim=num_food_items, output_dim=32)(food_input)\n",
        "\n",
        "user_vec = Flatten()(user_embedding)\n",
        "food_vec = Flatten()(food_embedding)\n",
        "\n",
        "concat = Concatenate()([user_vec, food_vec])\n",
        "\n",
        "fc1 = Dense(128, activation='relu')(concat)\n",
        "fc2 = Dense(64, activation='relu')(fc1)\n",
        "fc3 = Dense(32, activation='relu')(fc2)\n",
        "output = Dense(1, activation='sigmoid')(fc3)  # Predict whether the food is heart-healthy\n",
        "\n",
        "# Compile Model\n",
        "model = Model(inputs=[user_input, food_input], outputs=output)\n",
        "model.compile(optimizer='adam', loss='binary_crossentropy', metrics=['accuracy'])\n",
        "\n",
        "# Step 3: Prepare Data for Training\n",
        "user_ids = df['user_id'].values\n",
        "food_ids = df['food_id'].values\n",
        "labels = df['rating'].values.reshape(-1, 1)  # Ensure labels are correctly shaped\n",
        "\n",
        "# Final Check Before Training\n",
        "print(f\"Final User IDs Shape: {user_ids.shape}\")\n",
        "print(f\"Final Food IDs Shape: {food_ids.shape}\")\n",
        "print(f\"Final Labels Shape: {labels.shape}\")\n",
        "\n",
        "# Train Model (Batch Size Adjusted)\n",
        "model.fit([user_ids, food_ids], labels, epochs=10, batch_size=16)\n",
        "\n",
        "# -------------------------------\n",
        "# 🍽️ Generate 7-Day Meal Plan (Only Heart-Healthy Foods)\n",
        "# -------------------------------\n",
        "def recommend_foods(user_id, top_n=28):\n",
        "    \"\"\"Generates top heart-healthy food recommendations.\"\"\"\n",
        "    food_ids = np.array(range(num_food_items))\n",
        "    scores = model.predict([np.array([user_id] * num_food_items), food_ids])\n",
        "\n",
        "    # Sort foods by predicted score\n",
        "    food_scores = list(zip(food_ids, scores.flatten()))\n",
        "    food_scores.sort(key=lambda x: x[1], reverse=True)\n",
        "\n",
        "    # Get top recommended foods\n",
        "    recommended_foods = [food_encoder.inverse_transform([food_id])[0] for food_id, _ in food_scores[:top_n]]\n",
        "    return recommended_foods\n",
        "\n",
        "def generate_meal_plan(user_id):\n",
        "    \"\"\"Creates a 7-day meal plan with breakfast, lunch, snack, and dinner.\"\"\"\n",
        "    foods = recommend_foods(user_id, top_n=28)  # 7 days * 4 meals/day\n",
        "\n",
        "    # Split into meal categories\n",
        "    meal_plan = {\n",
        "        \"Day 1\": {\"Breakfast\": foods[0], \"Lunch\": foods[1], \"Snack\": foods[2], \"Dinner\": foods[3]},\n",
        "        \"Day 2\": {\"Breakfast\": foods[4], \"Lunch\": foods[5], \"Snack\": foods[6], \"Dinner\": foods[7]},\n",
        "        \"Day 3\": {\"Breakfast\": foods[8], \"Lunch\": foods[9], \"Snack\": foods[10], \"Dinner\": foods[11]},\n",
        "        \"Day 4\": {\"Breakfast\": foods[12], \"Lunch\": foods[13], \"Snack\": foods[14], \"Dinner\": foods[15]},\n",
        "        \"Day 5\": {\"Breakfast\": foods[16], \"Lunch\": foods[17], \"Snack\": foods[18], \"Dinner\": foods[19]},\n",
        "        \"Day 6\": {\"Breakfast\": foods[20], \"Lunch\": foods[21], \"Snack\": foods[22], \"Dinner\": foods[23]},\n",
        "        \"Day 7\": {\"Breakfast\": foods[24], \"Lunch\": foods[25], \"Snack\": foods[26], \"Dinner\": foods[27]},\n",
        "    }\n",
        "\n",
        "    return meal_plan\n",
        "\n",
        "# Example: Get meal plan for a sample user\n",
        "user_id = 10  # Change as needed\n",
        "meal_plan = generate_meal_plan(user_id)\n",
        "\n",
        "# Print Meal Plan\n",
        "for day, meals in meal_plan.items():\n",
        "    print(f\"\\n{day}\")\n",
        "    for meal_type, food in meals.items():\n",
        "        print(f\"  {meal_type}: {food}\")\n"
      ],
      "metadata": {
        "colab": {
          "base_uri": "https://localhost:8080/"
        },
        "id": "vUyFtW1JJcnt",
        "outputId": "5cc10b49-f417-4697-f41f-22a87817931e"
      },
      "execution_count": 14,
      "outputs": [
        {
          "output_type": "stream",
          "name": "stdout",
          "text": [
            "Total Unique Users: 1000\n",
            "Total Unique Foods: 4163\n",
            "Dataset Size: (4163, 80)\n",
            "Final User IDs Shape: (4163,)\n",
            "Final Food IDs Shape: (4163,)\n",
            "Final Labels Shape: (4163, 1)\n",
            "Epoch 1/10\n",
            "\u001b[1m261/261\u001b[0m \u001b[32m━━━━━━━━━━━━━━━━━━━━\u001b[0m\u001b[37m\u001b[0m \u001b[1m3s\u001b[0m 4ms/step - accuracy: 0.9843 - loss: 0.2109\n",
            "Epoch 2/10\n",
            "\u001b[1m261/261\u001b[0m \u001b[32m━━━━━━━━━━━━━━━━━━━━\u001b[0m\u001b[37m\u001b[0m \u001b[1m1s\u001b[0m 4ms/step - accuracy: 1.0000 - loss: 7.9962e-05\n",
            "Epoch 3/10\n",
            "\u001b[1m261/261\u001b[0m \u001b[32m━━━━━━━━━━━━━━━━━━━━\u001b[0m\u001b[37m\u001b[0m \u001b[1m1s\u001b[0m 4ms/step - accuracy: 1.0000 - loss: 2.8166e-05\n",
            "Epoch 4/10\n",
            "\u001b[1m261/261\u001b[0m \u001b[32m━━━━━━━━━━━━━━━━━━━━\u001b[0m\u001b[37m\u001b[0m \u001b[1m1s\u001b[0m 4ms/step - accuracy: 1.0000 - loss: 1.4118e-05\n",
            "Epoch 5/10\n",
            "\u001b[1m261/261\u001b[0m \u001b[32m━━━━━━━━━━━━━━━━━━━━\u001b[0m\u001b[37m\u001b[0m \u001b[1m1s\u001b[0m 4ms/step - accuracy: 1.0000 - loss: 8.2831e-06\n",
            "Epoch 6/10\n",
            "\u001b[1m261/261\u001b[0m \u001b[32m━━━━━━━━━━━━━━━━━━━━\u001b[0m\u001b[37m\u001b[0m \u001b[1m2s\u001b[0m 6ms/step - accuracy: 1.0000 - loss: 5.4708e-06\n",
            "Epoch 7/10\n",
            "\u001b[1m261/261\u001b[0m \u001b[32m━━━━━━━━━━━━━━━━━━━━\u001b[0m\u001b[37m\u001b[0m \u001b[1m2s\u001b[0m 7ms/step - accuracy: 1.0000 - loss: 3.7148e-06\n",
            "Epoch 8/10\n",
            "\u001b[1m261/261\u001b[0m \u001b[32m━━━━━━━━━━━━━━━━━━━━\u001b[0m\u001b[37m\u001b[0m \u001b[1m1s\u001b[0m 4ms/step - accuracy: 1.0000 - loss: 2.6590e-06\n",
            "Epoch 9/10\n",
            "\u001b[1m261/261\u001b[0m \u001b[32m━━━━━━━━━━━━━━━━━━━━\u001b[0m\u001b[37m\u001b[0m \u001b[1m1s\u001b[0m 4ms/step - accuracy: 1.0000 - loss: 1.9587e-06\n",
            "Epoch 10/10\n",
            "\u001b[1m261/261\u001b[0m \u001b[32m━━━━━━━━━━━━━━━━━━━━\u001b[0m\u001b[37m\u001b[0m \u001b[1m1s\u001b[0m 5ms/step - accuracy: 1.0000 - loss: 1.5623e-06\n",
            "\u001b[1m131/131\u001b[0m \u001b[32m━━━━━━━━━━━━━━━━━━━━\u001b[0m\u001b[37m\u001b[0m \u001b[1m0s\u001b[0m 3ms/step\n",
            "\n",
            "Day 1\n",
            "  Breakfast: Cereals ready-to-eat, WHEATIES, GENERAL MILLS\n",
            "  Lunch: Cereals ready-to-eat, KASHI 7 Whole Grain Puffs\n",
            "  Snack: Infant formula, powder not reconstituted, PM 60/40, SIMILAC, ABBOTT NUTRITION\n",
            "  Dinner: KASHI Spinach Artichoke Pasta, unprepared, frozen\n",
            "\n",
            "Day 2\n",
            "  Breakfast: Lupins, raw, mature seeds\n",
            "  Lunch: Oil, salad or cooking, cottonseed\n",
            "  Snack: PIZZA HUT, parmesan garlic, breadstick\n",
            "  Dinner: Cereals ready-to-eat, ORGANIC PROMISE Autumn Wheat, KASHI\n",
            "\n",
            "Day 3\n",
            "  Breakfast: Corn, regular pack, vacuum pack, canned, white, sweet\n",
            "  Lunch: Lamb, raw, choice, trimmed to 1/4\" fat, separable lean only, composite of trimmed retail cuts, domestic\n",
            "  Snack: Pie crust, baked, prepared, dry mix, standard-type\n",
            "  Dinner: Pie, commercially prepared, pumpkin\n",
            "\n",
            "Day 4\n",
            "  Breakfast: Turkey, raw, meat and skin, breast, all classes\n",
            "  Lunch: Veal, braised, cooked, spleen, variety meats and by-products\n",
            "  Snack: APPLEBEE'S, crunchy onion rings\n",
            "  Dinner: Bread, no salt, low sodium, commercially prepared, white\n",
            "\n",
            "Day 5\n",
            "  Breakfast: CAMPBELL'S Red and White, condensed, Tomato Bisque\n",
            "  Lunch: Cereals ready-to-eat, COLOSSAL CRUNCH, MALT-O-MEAL\n",
            "  Snack: Cornmeal, enriched, degermed, self-rising, yellow\n",
            "  Dinner: Fish, dry heat, cooked, mixed species, perch\n",
            "\n",
            "Day 6\n",
            "  Breakfast: Fish, raw, milkfish\n",
            "  Lunch: Game meat, raw, elk\n",
            "  Snack: Ham, cooked, smoked, honey\n",
            "  Dinner: Infant Formula, not reconstituted, Liquid concentrate, Infant, Premium, ENFAMIL, MEAD JOHNSON\n",
            "\n",
            "Day 7\n",
            "  Breakfast: Lamb, raw, separable lean and fat, rack - fully frenched, imported, New Zealand\n",
            "  Lunch: Lamb, roasted, cooked, trimmed to 1/8\" fat, separable lean and fat, whole (shank and sirloin), leg, fresh, imported, Australian\n",
            "  Snack: Lamb, roasted, cooked, trimmed to 1/8\" fat, separable lean only, bone-in, trotter off, leg, fresh, imported, Australian\n",
            "  Dinner: Liverwurst spread\n"
          ]
        }
      ]
    }
  ]
}